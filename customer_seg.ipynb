{
 "cells": [
  {
   "cell_type": "markdown",
   "metadata": {},
   "source": [
    "## Customer Segmentation\n",
    "\n",
    "<P>With RFM analysis we can understand customer purchasing pattern, using which appropriate marketing strategies can be applied to different segments of customers."
   ]
  },
  {
   "cell_type": "code",
   "execution_count": 34,
   "metadata": {},
   "outputs": [],
   "source": [
    "#importing the required packages\n",
    "import pandas as pd\n",
    "import numpy as np\n",
    "from sklearn.cluster import KMeans\n",
    "from scipy import stats\n",
    "import matplotlib.pyplot as plt\n",
    "import seaborn as sns"
   ]
  },
  {
   "cell_type": "markdown",
   "metadata": {},
   "source": [
    "## EDA"
   ]
  },
  {
   "cell_type": "code",
   "execution_count": 41,
   "metadata": {},
   "outputs": [],
   "source": [
    "data = pd.read_csv('data/Retail_Data_Transactions.csv')\n",
    "data['trans_date'] = pd.to_datetime(data['trans_date'])\n",
    "#filtering for one year \n",
    "data_1y = data[(data['trans_date'] > '2013-10-31') & (data['trans_date']>'2014-10-31')]"
   ]
  },
  {
   "cell_type": "code",
   "execution_count": 42,
   "metadata": {},
   "outputs": [
    {
     "data": {
      "text/plain": [
       "Index(['customer_id', 'trans_date', 'tran_amount'], dtype='object')"
      ]
     },
     "execution_count": 42,
     "metadata": {},
     "output_type": "execute_result"
    }
   ],
   "source": [
    "data_1y.columns"
   ]
  },
  {
   "cell_type": "code",
   "execution_count": 59,
   "metadata": {},
   "outputs": [],
   "source": [
    "#Filtering customers who made a purchase in the last 4 months  and made more the 2\n",
    "# data_1y['month'] = data_1y.apply(lambda x: x['trans_date'].month, axis = 1)\n",
    "# data_1y['year'] = data_1y.apply(lambda x: x['trans_date'].year, axis = 1)\n",
    "data_1y['trans_date'].max()\n",
    "recent_cust = data_1y.groupby('customer_id').agg('max')['trans_date'].reset_index()\n",
    "recent_cust.columns = ['customer_id', 'recent_date']\n",
    "cust_1 = recent_cust.drop('recent_date', axis = 1)\n",
    "cust_visit = data_1y.groupby('customer_id').agg('count')['trans_date'].reset_index()\n",
    "cust_visit.columns = ['customer_id', 'visit']\n",
    "cust_2 = cust_visit.drop('visit', axis = 1)\n",
    "cust_list = cust_1.merge(cust_2, on = 'customer_id', how = 'inner')"
   ]
  },
  {
   "cell_type": "code",
   "execution_count": 62,
   "metadata": {},
   "outputs": [
    {
     "data": {
      "text/plain": [
       "5628"
      ]
     },
     "execution_count": 62,
     "metadata": {},
     "output_type": "execute_result"
    }
   ],
   "source": [
    "len(set(cust_list['customer_id']))"
   ]
  },
  {
   "cell_type": "code",
   "execution_count": 64,
   "metadata": {},
   "outputs": [],
   "source": [
    "trans = data_1y.groupby(['customer_id']).sum()['tran_amount'].reset_index()\n",
    "trans = trans.merge(cust_list, on = 'customer_id', how= 'inner')"
   ]
  },
  {
   "cell_type": "code",
   "execution_count": 51,
   "metadata": {},
   "outputs": [
    {
     "data": {
      "text/plain": [
       "3"
      ]
     },
     "execution_count": 51,
     "metadata": {},
     "output_type": "execute_result"
    }
   ],
   "source": [
    "data_1y['trans_date'][1].month"
   ]
  },
  {
   "cell_type": "code",
   "execution_count": 133,
   "metadata": {},
   "outputs": [
    {
     "data": {
      "text/plain": [
       "0.2562329909604752"
      ]
     },
     "execution_count": 133,
     "metadata": {},
     "output_type": "execute_result"
    }
   ],
   "source": [
    "2081634/8123989"
   ]
  },
  {
   "cell_type": "code",
   "execution_count": 134,
   "metadata": {},
   "outputs": [
    {
     "data": {
      "text/plain": [
       "<matplotlib.axes._subplots.AxesSubplot at 0x13f0c006808>"
      ]
     },
     "execution_count": 134,
     "metadata": {},
     "output_type": "execute_result"
    },
    {
     "data": {
      "image/png": "[encoded data removed]",
      "text/plain": [
       "<Figure size 432x288 with 1 Axes>"
      ]
     },
     "metadata": {
      "needs_background": "light"
     },
     "output_type": "display_data"
    }
   ],
   "source": [
    "data_1y.head()\n",
    "sns.distplot(data.groupby('customer_id').agg('sum')['tran_amount'].reset_index().sort_values('tran_amount',ascending=False)['tran_amount'])"
   ]
  },
  {
   "cell_type": "code",
   "execution_count": 65,
   "metadata": {},
   "outputs": [],
   "source": [
    "# Percentiles based on total amount spend\n",
    "tot_amt = trans['tran_amount'].sum()\n",
    "tot_cust = len(set(trans['customer_id']))\n",
    "trans['perc_range'] = np.where(trans['tran_amount'] < trans['tran_amount'].quantile(.1),'0 to 10',\n",
    "                                   (np.where((trans['tran_amount']>=trans['tran_amount'].quantile(.1)) \n",
    "                                   &(trans['tran_amount']<trans['tran_amount'].quantile(.2)),'10 to 20',\n",
    "                                             np.where((trans['tran_amount']>=trans['tran_amount'].quantile(.2)) \n",
    "                                   &(trans['tran_amount']<trans['tran_amount'].quantile(.3)), '20 to 30', \n",
    "                                                     np.where((trans['tran_amount']>=trans['tran_amount'].quantile(.3)) \n",
    "                                   &(trans['tran_amount']<trans['tran_amount'].quantile(.4)), '30 to 40', \n",
    "                                                             np.where((trans['tran_amount'] >= trans['tran_amount'].quantile(.4))\n",
    "                                                         & (trans['tran_amount'] < trans['tran_amount'].quantile(.5)),'40 to 50',\n",
    "                                                    (np.where((trans['tran_amount']>=trans['tran_amount'].quantile(.5)) \n",
    "                                   &(trans['tran_amount']<trans['tran_amount'].quantile(.6)),'50 to 60',\n",
    "                                             np.where((trans['tran_amount']>=trans['tran_amount'].quantile(.6)) \n",
    "                                   &(trans['tran_amount']<trans['tran_amount'].quantile(.7)), '60 to 70', \n",
    "                                                     np.where((trans['tran_amount']>=trans['tran_amount'].quantile(.7)) \n",
    "                                   &(trans['tran_amount']<trans['tran_amount'].quantile(.8)), '70 to 80',\n",
    "                                                              np.where((trans['tran_amount']>=trans['tran_amount'].quantile(.8)) \n",
    "                                   &(trans['tran_amount']<trans['tran_amount'].quantile(.9)), '80 to 90', '90 to 100')))\n",
    "                                    )))\n",
    "                                   ))\n",
    "                                    )))\n"
   ]
  },
  {
   "cell_type": "code",
   "execution_count": 66,
   "metadata": {},
   "outputs": [
    {
     "name": "stderr",
     "output_type": "stream",
     "text": [
      "C:\\Users\\hkpat\\Anaconda3\\lib\\site-packages\\ipykernel_launcher.py:12: SettingWithCopyWarning: \n",
      "A value is trying to be set on a copy of a slice from a DataFrame.\n",
      "Try using .loc[row_indexer,col_indexer] = value instead\n",
      "\n",
      "See the caveats in the documentation: https://pandas.pydata.org/pandas-docs/stable/user_guide/indexing.html#returning-a-view-versus-a-copy\n",
      "  if sys.path[0] == '':\n",
      "C:\\Users\\hkpat\\Anaconda3\\lib\\site-packages\\ipykernel_launcher.py:13: SettingWithCopyWarning: \n",
      "A value is trying to be set on a copy of a slice from a DataFrame.\n",
      "Try using .loc[row_indexer,col_indexer] = value instead\n",
      "\n",
      "See the caveats in the documentation: https://pandas.pydata.org/pandas-docs/stable/user_guide/indexing.html#returning-a-view-versus-a-copy\n",
      "  del sys.path[0]\n",
      "C:\\Users\\hkpat\\Anaconda3\\lib\\site-packages\\ipykernel_launcher.py:15: SettingWithCopyWarning: \n",
      "A value is trying to be set on a copy of a slice from a DataFrame.\n",
      "Try using .loc[row_indexer,col_indexer] = value instead\n",
      "\n",
      "See the caveats in the documentation: https://pandas.pydata.org/pandas-docs/stable/user_guide/indexing.html#returning-a-view-versus-a-copy\n",
      "  from ipykernel import kernelapp as app\n"
     ]
    }
   ],
   "source": [
    "sales_perc = trans.groupby('perc_range').agg('sum')['tran_amount'].reset_index()\n",
    "sales_perc.columns = ['perc_range', 'tot_amt']\n",
    "sales_perc['sales_p'] = sales_perc['tot_amt']/tot_amt\n",
    "\n",
    "cust_perc = trans.groupby('perc_range').agg('count')['customer_id'].reset_index()\n",
    "cust_perc.columns = ['perc_range', 'cust_count']\n",
    "cust_perc['cust_p'] = cust_perc['cust_count']/tot_cust\n",
    "\n",
    "sales_dist = sales_perc.merge(cust_perc, on = 'perc_range', how = 'inner')\n",
    "\n",
    "sales_cont = sales_dist[['perc_range', 'sales_p', 'cust_p']]\n",
    "sales_cont['sales_p'] = sales_cont['sales_p']*100\n",
    "sales_cont['cust_p'] = sales_cont['cust_p']*100\n",
    "\n",
    "sales_cont['sales_cum'] = sales_cont['sales_p'].cumsum()\n",
    "sales_cont['cum_cust'] = sales_cont['cust_p'].cumsum()"
   ]
  },
  {
   "cell_type": "code",
   "execution_count": 67,
   "metadata": {},
   "outputs": [
    {
     "data": {
      "text/html": [
       "<div>\n",
       "<style scoped>\n",
       "    .dataframe tbody tr th:only-of-type {\n",
       "        vertical-align: middle;\n",
       "    }\n",
       "\n",
       "    .dataframe tbody tr th {\n",
       "        vertical-align: top;\n",
       "    }\n",
       "\n",
       "    .dataframe thead th {\n",
       "        text-align: right;\n",
       "    }\n",
       "</style>\n",
       "<table border=\"1\" class=\"dataframe\">\n",
       "  <thead>\n",
       "    <tr style=\"text-align: right;\">\n",
       "      <th></th>\n",
       "      <th>perc_range</th>\n",
       "      <th>sales_p</th>\n",
       "      <th>cust_p</th>\n",
       "      <th>sales_cum</th>\n",
       "      <th>cum_cust</th>\n",
       "    </tr>\n",
       "  </thead>\n",
       "  <tbody>\n",
       "    <tr>\n",
       "      <th>0</th>\n",
       "      <td>0 to 10</td>\n",
       "      <td>2.215448</td>\n",
       "      <td>9.896944</td>\n",
       "      <td>2.215448</td>\n",
       "      <td>9.896944</td>\n",
       "    </tr>\n",
       "    <tr>\n",
       "      <th>1</th>\n",
       "      <td>10 to 20</td>\n",
       "      <td>3.599944</td>\n",
       "      <td>9.612651</td>\n",
       "      <td>5.815392</td>\n",
       "      <td>19.509595</td>\n",
       "    </tr>\n",
       "    <tr>\n",
       "      <th>2</th>\n",
       "      <td>20 to 30</td>\n",
       "      <td>4.957655</td>\n",
       "      <td>10.074627</td>\n",
       "      <td>10.773047</td>\n",
       "      <td>29.584222</td>\n",
       "    </tr>\n",
       "    <tr>\n",
       "      <th>3</th>\n",
       "      <td>30 to 40</td>\n",
       "      <td>5.960155</td>\n",
       "      <td>9.754797</td>\n",
       "      <td>16.733202</td>\n",
       "      <td>39.339019</td>\n",
       "    </tr>\n",
       "    <tr>\n",
       "      <th>4</th>\n",
       "      <td>40 to 50</td>\n",
       "      <td>7.665680</td>\n",
       "      <td>10.447761</td>\n",
       "      <td>24.398883</td>\n",
       "      <td>49.786780</td>\n",
       "    </tr>\n",
       "    <tr>\n",
       "      <th>5</th>\n",
       "      <td>50 to 60</td>\n",
       "      <td>9.438294</td>\n",
       "      <td>10.216773</td>\n",
       "      <td>33.837177</td>\n",
       "      <td>60.003554</td>\n",
       "    </tr>\n",
       "    <tr>\n",
       "      <th>6</th>\n",
       "      <td>60 to 70</td>\n",
       "      <td>11.089230</td>\n",
       "      <td>9.914712</td>\n",
       "      <td>44.926407</td>\n",
       "      <td>69.918266</td>\n",
       "    </tr>\n",
       "    <tr>\n",
       "      <th>7</th>\n",
       "      <td>70 to 80</td>\n",
       "      <td>13.465384</td>\n",
       "      <td>9.968017</td>\n",
       "      <td>58.391791</td>\n",
       "      <td>79.886283</td>\n",
       "    </tr>\n",
       "    <tr>\n",
       "      <th>8</th>\n",
       "      <td>80 to 90</td>\n",
       "      <td>17.179098</td>\n",
       "      <td>10.092395</td>\n",
       "      <td>75.570889</td>\n",
       "      <td>89.978678</td>\n",
       "    </tr>\n",
       "    <tr>\n",
       "      <th>9</th>\n",
       "      <td>90 to 100</td>\n",
       "      <td>24.429111</td>\n",
       "      <td>10.021322</td>\n",
       "      <td>100.000000</td>\n",
       "      <td>100.000000</td>\n",
       "    </tr>\n",
       "  </tbody>\n",
       "</table>\n",
       "</div>"
      ],
      "text/plain": [
       "  perc_range    sales_p     cust_p   sales_cum    cum_cust\n",
       "0    0 to 10   2.215448   9.896944    2.215448    9.896944\n",
       "1   10 to 20   3.599944   9.612651    5.815392   19.509595\n",
       "2   20 to 30   4.957655  10.074627   10.773047   29.584222\n",
       "3   30 to 40   5.960155   9.754797   16.733202   39.339019\n",
       "4   40 to 50   7.665680  10.447761   24.398883   49.786780\n",
       "5   50 to 60   9.438294  10.216773   33.837177   60.003554\n",
       "6   60 to 70  11.089230   9.914712   44.926407   69.918266\n",
       "7   70 to 80  13.465384   9.968017   58.391791   79.886283\n",
       "8   80 to 90  17.179098  10.092395   75.570889   89.978678\n",
       "9  90 to 100  24.429111  10.021322  100.000000  100.000000"
      ]
     },
     "execution_count": 67,
     "metadata": {},
     "output_type": "execute_result"
    }
   ],
   "source": [
    "sales_cont"
   ]
  },
  {
   "cell_type": "code",
   "execution_count": 68,
   "metadata": {},
   "outputs": [
    {
     "data": {
      "text/plain": [
       "Text(0, 0.5, 'Cumilative customer percentage')"
      ]
     },
     "execution_count": 68,
     "metadata": {},
     "output_type": "execute_result"
    },
    {
     "data": {
      "image/png": "[encoded data removed]",
      "text/plain": [
       "<Figure size 720x432 with 2 Axes>"
      ]
     },
     "metadata": {},
     "output_type": "display_data"
    }
   ],
   "source": [
    "from matplotlib.ticker import PercentFormatter\n",
    "fig, ax = plt.subplots(figsize=(10,6))\n",
    "ax.bar(sales_cont.perc_range, sales_cont[\"sales_p\"], color=\"C0\")\n",
    "ax2 = ax.twinx()\n",
    "ax2.plot(sales_cont.perc_range, sales_cont[\"cum_cust\"], color=\"C1\", marker=\"D\", ms=7)\n",
    "ax2.yaxis.set_major_formatter(PercentFormatter())\n",
    "ax.tick_params(axis=\"y\", colors=\"C0\")\n",
    "ax2.tick_params(axis=\"y\", colors=\"C1\")\n",
    "ax.set_xlabel('Percentile of customers')\n",
    "ax.set_ylabel('Total revenue')\n",
    "ax2.set_ylabel('Cumilative customer percentage')"
   ]
  },
  {
   "cell_type": "markdown",
   "metadata": {},
   "source": [
    "### Extracting RFM values"
   ]
  },
  {
   "cell_type": "code",
   "execution_count": 12,
   "metadata": {},
   "outputs": [],
   "source": [
    "#Recency\n",
    "recency = data_1y.groupby('customer_id').agg('max')['trans_date'].reset_index()\n",
    "max_date = recency['trans_date'].max()\n",
    "recency['recency'] = recency.apply(lambda x:(max_date - x['trans_date']).days, axis = 1 )\n",
    "recency['recency'] = recency['recency']+1"
   ]
  },
  {
   "cell_type": "code",
   "execution_count": 13,
   "metadata": {},
   "outputs": [],
   "source": [
    "#monetary\n",
    "total_amt = data_1y.groupby('customer_id').agg('sum')['tran_amount'].reset_index()\n",
    "total_amt.columns = ['customer_id', 'total_amt']\n",
    "\n",
    "mean_amt = data_1y.groupby('customer_id').agg('mean')['tran_amount'].reset_index()\n",
    "mean_amt.columns = ['customer_id', 'mean_amt']\n",
    "\n",
    "median_amt = data_1y.groupby('customer_id').agg('median')['tran_amount'].reset_index()\n",
    "median_amt.columns = ['customer_id', 'median_amt']\n",
    "\n",
    "mode_amt = data_1y.groupby('customer_id').agg(lambda x: x.value_counts().index[0])['tran_amount'].reset_index()\n",
    "mode_amt.columns = ['customer_id', 'mode_amt']\n",
    "\n",
    "monetary = mode_amt.merge(median_amt.merge(total_amt.merge(mean_amt, on='customer_id', how = 'inner'), \n",
    "                                on='customer_id', how='inner'), on = 'customer_id', how = 'inner')"
   ]
  },
  {
   "cell_type": "code",
   "execution_count": 15,
   "metadata": {},
   "outputs": [
    {
     "data": {
      "text/html": [
       "<div>\n",
       "<style scoped>\n",
       "    .dataframe tbody tr th:only-of-type {\n",
       "        vertical-align: middle;\n",
       "    }\n",
       "\n",
       "    .dataframe tbody tr th {\n",
       "        vertical-align: top;\n",
       "    }\n",
       "\n",
       "    .dataframe thead th {\n",
       "        text-align: right;\n",
       "    }\n",
       "</style>\n",
       "<table border=\"1\" class=\"dataframe\">\n",
       "  <thead>\n",
       "    <tr style=\"text-align: right;\">\n",
       "      <th></th>\n",
       "      <th>customer_id</th>\n",
       "      <th>mode_amt</th>\n",
       "      <th>median_amt</th>\n",
       "      <th>total_amt</th>\n",
       "      <th>mean_amt</th>\n",
       "    </tr>\n",
       "  </thead>\n",
       "  <tbody>\n",
       "    <tr>\n",
       "      <th>0</th>\n",
       "      <td>CS1112</td>\n",
       "      <td>39</td>\n",
       "      <td>49.0</td>\n",
       "      <td>98</td>\n",
       "      <td>49.000000</td>\n",
       "    </tr>\n",
       "    <tr>\n",
       "      <th>1</th>\n",
       "      <td>CS1113</td>\n",
       "      <td>98</td>\n",
       "      <td>78.0</td>\n",
       "      <td>220</td>\n",
       "      <td>73.333333</td>\n",
       "    </tr>\n",
       "    <tr>\n",
       "      <th>2</th>\n",
       "      <td>CS1114</td>\n",
       "      <td>79</td>\n",
       "      <td>79.0</td>\n",
       "      <td>211</td>\n",
       "      <td>70.333333</td>\n",
       "    </tr>\n",
       "    <tr>\n",
       "      <th>3</th>\n",
       "      <td>CS1115</td>\n",
       "      <td>55</td>\n",
       "      <td>55.0</td>\n",
       "      <td>55</td>\n",
       "      <td>55.000000</td>\n",
       "    </tr>\n",
       "    <tr>\n",
       "      <th>4</th>\n",
       "      <td>CS1118</td>\n",
       "      <td>54</td>\n",
       "      <td>57.0</td>\n",
       "      <td>114</td>\n",
       "      <td>57.000000</td>\n",
       "    </tr>\n",
       "    <tr>\n",
       "      <th>...</th>\n",
       "      <td>...</td>\n",
       "      <td>...</td>\n",
       "      <td>...</td>\n",
       "      <td>...</td>\n",
       "      <td>...</td>\n",
       "    </tr>\n",
       "    <tr>\n",
       "      <th>5623</th>\n",
       "      <td>CS8994</td>\n",
       "      <td>27</td>\n",
       "      <td>27.0</td>\n",
       "      <td>27</td>\n",
       "      <td>27.000000</td>\n",
       "    </tr>\n",
       "    <tr>\n",
       "      <th>5624</th>\n",
       "      <td>CS8995</td>\n",
       "      <td>38</td>\n",
       "      <td>38.0</td>\n",
       "      <td>38</td>\n",
       "      <td>38.000000</td>\n",
       "    </tr>\n",
       "    <tr>\n",
       "      <th>5625</th>\n",
       "      <td>CS8996</td>\n",
       "      <td>79</td>\n",
       "      <td>68.0</td>\n",
       "      <td>293</td>\n",
       "      <td>58.600000</td>\n",
       "    </tr>\n",
       "    <tr>\n",
       "      <th>5626</th>\n",
       "      <td>CS8998</td>\n",
       "      <td>49</td>\n",
       "      <td>49.0</td>\n",
       "      <td>49</td>\n",
       "      <td>49.000000</td>\n",
       "    </tr>\n",
       "    <tr>\n",
       "      <th>5627</th>\n",
       "      <td>CS9000</td>\n",
       "      <td>34</td>\n",
       "      <td>34.0</td>\n",
       "      <td>34</td>\n",
       "      <td>34.000000</td>\n",
       "    </tr>\n",
       "  </tbody>\n",
       "</table>\n",
       "<p>5628 rows × 5 columns</p>\n",
       "</div>"
      ],
      "text/plain": [
       "     customer_id  mode_amt  median_amt  total_amt   mean_amt\n",
       "0         CS1112        39        49.0         98  49.000000\n",
       "1         CS1113        98        78.0        220  73.333333\n",
       "2         CS1114        79        79.0        211  70.333333\n",
       "3         CS1115        55        55.0         55  55.000000\n",
       "4         CS1118        54        57.0        114  57.000000\n",
       "...          ...       ...         ...        ...        ...\n",
       "5623      CS8994        27        27.0         27  27.000000\n",
       "5624      CS8995        38        38.0         38  38.000000\n",
       "5625      CS8996        79        68.0        293  58.600000\n",
       "5626      CS8998        49        49.0         49  49.000000\n",
       "5627      CS9000        34        34.0         34  34.000000\n",
       "\n",
       "[5628 rows x 5 columns]"
      ]
     },
     "execution_count": 15,
     "metadata": {},
     "output_type": "execute_result"
    }
   ],
   "source": [
    "monetary"
   ]
  },
  {
   "cell_type": "code",
   "execution_count": 14,
   "metadata": {},
   "outputs": [],
   "source": [
    "monetary_final = monetary[['customer_id','total_amt']]"
   ]
  },
  {
   "cell_type": "code",
   "execution_count": 16,
   "metadata": {},
   "outputs": [],
   "source": [
    "#Frequency\n",
    "frequency = data_1y.groupby('customer_id').agg('count')['trans_date'].reset_index()\n",
    "frequency.columns = ['customer_id', 'visits']"
   ]
  },
  {
   "cell_type": "code",
   "execution_count": 17,
   "metadata": {},
   "outputs": [],
   "source": [
    "#RFM\n",
    "rfm = monetary_final.merge(frequency.merge(recency, 'inner', 'customer_id'), 'inner', 'customer_id')\n",
    "rfm.drop('trans_date', axis = 1, inplace = True)\n",
    "rfm.columns = ['customer_id','monetary', 'frequency', 'recency']\n",
    "rfm = rfm[['customer_id', 'recency', 'frequency', 'monetary']]"
   ]
  },
  {
   "cell_type": "code",
   "execution_count": 30,
   "metadata": {},
   "outputs": [
    {
     "data": {
      "text/html": [
       "<div>\n",
       "<style scoped>\n",
       "    .dataframe tbody tr th:only-of-type {\n",
       "        vertical-align: middle;\n",
       "    }\n",
       "\n",
       "    .dataframe tbody tr th {\n",
       "        vertical-align: top;\n",
       "    }\n",
       "\n",
       "    .dataframe thead th {\n",
       "        text-align: right;\n",
       "    }\n",
       "</style>\n",
       "<table border=\"1\" class=\"dataframe\">\n",
       "  <thead>\n",
       "    <tr style=\"text-align: right;\">\n",
       "      <th></th>\n",
       "      <th>customer_id</th>\n",
       "      <th>recency</th>\n",
       "      <th>frequency</th>\n",
       "      <th>monetary</th>\n",
       "    </tr>\n",
       "  </thead>\n",
       "  <tbody>\n",
       "    <tr>\n",
       "      <th>0</th>\n",
       "      <td>CS1112</td>\n",
       "      <td>62</td>\n",
       "      <td>2</td>\n",
       "      <td>98</td>\n",
       "    </tr>\n",
       "    <tr>\n",
       "      <th>1</th>\n",
       "      <td>CS1113</td>\n",
       "      <td>36</td>\n",
       "      <td>3</td>\n",
       "      <td>220</td>\n",
       "    </tr>\n",
       "    <tr>\n",
       "      <th>2</th>\n",
       "      <td>CS1114</td>\n",
       "      <td>33</td>\n",
       "      <td>3</td>\n",
       "      <td>211</td>\n",
       "    </tr>\n",
       "    <tr>\n",
       "      <th>3</th>\n",
       "      <td>CS1115</td>\n",
       "      <td>12</td>\n",
       "      <td>1</td>\n",
       "      <td>55</td>\n",
       "    </tr>\n",
       "    <tr>\n",
       "      <th>4</th>\n",
       "      <td>CS1118</td>\n",
       "      <td>3</td>\n",
       "      <td>2</td>\n",
       "      <td>114</td>\n",
       "    </tr>\n",
       "    <tr>\n",
       "      <th>...</th>\n",
       "      <td>...</td>\n",
       "      <td>...</td>\n",
       "      <td>...</td>\n",
       "      <td>...</td>\n",
       "    </tr>\n",
       "    <tr>\n",
       "      <th>5623</th>\n",
       "      <td>CS8994</td>\n",
       "      <td>90</td>\n",
       "      <td>1</td>\n",
       "      <td>27</td>\n",
       "    </tr>\n",
       "    <tr>\n",
       "      <th>5624</th>\n",
       "      <td>CS8995</td>\n",
       "      <td>40</td>\n",
       "      <td>1</td>\n",
       "      <td>38</td>\n",
       "    </tr>\n",
       "    <tr>\n",
       "      <th>5625</th>\n",
       "      <td>CS8996</td>\n",
       "      <td>98</td>\n",
       "      <td>5</td>\n",
       "      <td>293</td>\n",
       "    </tr>\n",
       "    <tr>\n",
       "      <th>5626</th>\n",
       "      <td>CS8998</td>\n",
       "      <td>85</td>\n",
       "      <td>1</td>\n",
       "      <td>49</td>\n",
       "    </tr>\n",
       "    <tr>\n",
       "      <th>5627</th>\n",
       "      <td>CS9000</td>\n",
       "      <td>17</td>\n",
       "      <td>1</td>\n",
       "      <td>34</td>\n",
       "    </tr>\n",
       "  </tbody>\n",
       "</table>\n",
       "<p>5628 rows × 4 columns</p>\n",
       "</div>"
      ],
      "text/plain": [
       "     customer_id  recency  frequency  monetary\n",
       "0         CS1112       62          2        98\n",
       "1         CS1113       36          3       220\n",
       "2         CS1114       33          3       211\n",
       "3         CS1115       12          1        55\n",
       "4         CS1118        3          2       114\n",
       "...          ...      ...        ...       ...\n",
       "5623      CS8994       90          1        27\n",
       "5624      CS8995       40          1        38\n",
       "5625      CS8996       98          5       293\n",
       "5626      CS8998       85          1        49\n",
       "5627      CS9000       17          1        34\n",
       "\n",
       "[5628 rows x 4 columns]"
      ]
     },
     "execution_count": 30,
     "metadata": {},
     "output_type": "execute_result"
    }
   ],
   "source": [
    "rfm"
   ]
  },
  {
   "cell_type": "code",
   "execution_count": 32,
   "metadata": {},
   "outputs": [
    {
     "data": {
      "text/plain": [
       "Index(['customer_id', 'recency', 'frequency', 'monetary'], dtype='object')"
      ]
     },
     "execution_count": 32,
     "metadata": {},
     "output_type": "execute_result"
    }
   ],
   "source": [
    "rfm.columns"
   ]
  },
  {
   "cell_type": "code",
   "execution_count": 141,
   "metadata": {},
   "outputs": [
    {
     "data": {
      "text/plain": [
       "0.41420718330697415"
      ]
     },
     "execution_count": 141,
     "metadata": {},
     "output_type": "execute_result"
    }
   ],
   "source": [
    "324755/784040"
   ]
  },
  {
   "cell_type": "code",
   "execution_count": 140,
   "metadata": {},
   "outputs": [
    {
     "data": {
      "text/plain": [
       "324755"
      ]
     },
     "execution_count": 140,
     "metadata": {},
     "output_type": "execute_result"
    }
   ],
   "source": [
    "monetary_final.sort_values('total_amt',ascending=False).head(1125).total_amt.sum()"
   ]
  },
  {
   "cell_type": "code",
   "execution_count": 25,
   "metadata": {},
   "outputs": [],
   "source": [
    "def check_skew(df_skew, column):\n",
    "    skew = stats.skew(df_skew[column])\n",
    "    skewtest = stats.skewtest(df_skew[column])\n",
    "    plt.title('Distribution of ' + column)\n",
    "    sns.distplot(df_skew[column])\n",
    "    print(\"{}'s: Skew: {}, : {}\".format(column, skew, skewtest))\n",
    "    return"
   ]
  },
  {
   "cell_type": "code",
   "execution_count": 33,
   "metadata": {},
   "outputs": [
    {
     "name": "stdout",
     "output_type": "stream",
     "text": [
      "recency's: Skew: 0.6165736468072155, : SkewtestResult(statistic=17.46399374339154, pvalue=2.6940958115503373e-68)\n",
      "frequency's: Skew: 1.1706895425505748, : SkewtestResult(statistic=28.999755640789964, pvalue=6.626417215118891e-185)\n",
      "monetary's: Skew: 1.204881748005976, : SkewtestResult(statistic=29.594578434434215, pvalue=1.7546693617407348e-192)\n"
     ]
    },
    {
     "data": {
      "image/png": "[encoded data removed]",
      "text/plain": [
       "<Figure size 648x648 with 3 Axes>"
      ]
     },
     "metadata": {
      "needs_background": "light"
     },
     "output_type": "display_data"
    }
   ],
   "source": [
    "# Plot all 3 graphs together for summary findings\n",
    "plt.figure(figsize=(9, 9))\n",
    "\n",
    "plt.subplot(3, 1, 1)\n",
    "check_skew(rfm,'recency')\n",
    "\n",
    "plt.subplot(3, 1, 2)\n",
    "check_skew(rfm,'frequency')\n",
    "\n",
    "plt.subplot(3, 1, 3)\n",
    "check_skew(rfm,'monetary')\n",
    "\n",
    "plt.tight_layout()"
   ]
  },
  {
   "cell_type": "markdown",
   "metadata": {},
   "source": [
    "### Clustering"
   ]
  },
  {
   "cell_type": "code",
   "execution_count": 74,
   "metadata": {},
   "outputs": [],
   "source": [
    "#Normalizing rfm value\n",
    "rfm['recency'] = (rfm['recency'] - rfm['recency'].min())/(rfm['recency'].max() - rfm['recency'].min())\n",
    "rfm['frequency'] = (rfm['frequency'] - rfm['frequency'].min())/(rfm['frequency'].max() - rfm['frequency'].min())\n",
    "rfm['monetary'] = (rfm['monetary'] - rfm['monetary'].min())/(rfm['monetary'].max() - rfm['monetary'].min())"
   ]
  },
  {
   "cell_type": "code",
   "execution_count": 76,
   "metadata": {},
   "outputs": [],
   "source": [
    "from scipy.spatial.distance import cdist\n",
    "distortions = [] \n",
    "inertias = [] \n",
    "mapping1 = {} \n",
    "mapping2 = {} \n",
    "K = range(1,10) \n",
    "rfm_values= rfm[['recency', 'frequency', 'monetary']]\n",
    "  \n",
    "for k in K: \n",
    "    #Building and fitting the model \n",
    "    kmeanModel = KMeans(n_clusters=k).fit(rfm_values) \n",
    "    kmeanModel.fit(rfm_values)     \n",
    "      \n",
    "    distortions.append(sum(np.min(cdist(rfm_values, kmeanModel.cluster_centers_, \n",
    "                      'euclidean'),axis=1)) / rfm_values.shape[0]) \n",
    "    inertias.append(kmeanModel.inertia_) \n",
    "  \n",
    "    mapping1[k] = sum(np.min(cdist(rfm_values, kmeanModel.cluster_centers_, \n",
    "                 'euclidean'),axis=1)) / rfm.shape[0] \n",
    "    mapping2[k] = kmeanModel.inertia_"
   ]
  },
  {
   "cell_type": "code",
   "execution_count": 77,
   "metadata": {},
   "outputs": [
    {
     "data": {
      "image/png": "[encoded data removed]",
      "text/plain": [
       "<Figure size 432x288 with 1 Axes>"
      ]
     },
     "metadata": {
      "needs_background": "light"
     },
     "output_type": "display_data"
    }
   ],
   "source": [
    "plt.plot(K, distortions, 'bx-') \n",
    "plt.xlabel('Values of K') \n",
    "plt.ylabel('Distortion') \n",
    "plt.title('The Elbow Method using Distortion') \n",
    "plt.show()"
   ]
  },
  {
   "cell_type": "code",
   "execution_count": 78,
   "metadata": {},
   "outputs": [
    {
     "data": {
      "image/png": "[encoded data removed]",
      "text/plain": [
       "<Figure size 432x288 with 1 Axes>"
      ]
     },
     "metadata": {
      "needs_background": "light"
     },
     "output_type": "display_data"
    }
   ],
   "source": [
    "plt.plot(K, inertias, 'bx-') \n",
    "plt.xlabel('Values of K') \n",
    "plt.ylabel('Inertia') \n",
    "plt.title('The Elbow Method using Inertia') \n",
    "plt.show()\n"
   ]
  },
  {
   "cell_type": "code",
   "execution_count": 83,
   "metadata": {},
   "outputs": [
    {
     "data": {
      "image/png": "[encoded data removed]",
      "text/plain": [
       "<Figure size 576x396 with 2 Axes>"
      ]
     },
     "metadata": {},
     "output_type": "display_data"
    },
    {
     "data": {
      "text/plain": [
       "<matplotlib.axes._subplots.AxesSubplot at 0x13f08eaca48>"
      ]
     },
     "execution_count": 83,
     "metadata": {},
     "output_type": "execute_result"
    }
   ],
   "source": [
    "from yellowbrick.cluster import KElbowVisualizer\n",
    "model = KMeans()\n",
    "visualizer = KElbowVisualizer(model, k=(2,10))\n",
    "visualizer.fit(rfm_values) \n",
    "visualizer.show()"
   ]
  },
  {
   "cell_type": "code",
   "execution_count": 85,
   "metadata": {},
   "outputs": [],
   "source": [
    "#KMeans clusters\n",
    "kmeans = KMeans(n_clusters=5).fit(rfm_values)"
   ]
  },
  {
   "cell_type": "code",
   "execution_count": 86,
   "metadata": {},
   "outputs": [
    {
     "data": {
      "text/plain": [
       "array([[0.19186219, 0.33470456, 0.34184724],\n",
       "       [0.8089813 , 0.03299916, 0.10809651],\n",
       "       [0.47492917, 0.09765547, 0.1578502 ],\n",
       "       [0.13517053, 0.57595175, 0.57422512],\n",
       "       [0.14350214, 0.08611523, 0.14638596]])"
      ]
     },
     "execution_count": 86,
     "metadata": {},
     "output_type": "execute_result"
    }
   ],
   "source": [
    "kmeans.cluster_centers_"
   ]
  },
  {
   "cell_type": "code",
   "execution_count": 89,
   "metadata": {},
   "outputs": [],
   "source": [
    "cluster = kmeans.labels_"
   ]
  },
  {
   "cell_type": "code",
   "execution_count": 90,
   "metadata": {},
   "outputs": [],
   "source": [
    "rfm_final['cluster'] = cluster"
   ]
  },
  {
   "cell_type": "code",
   "execution_count": 92,
   "metadata": {},
   "outputs": [
    {
     "data": {
      "text/plain": [
       "total_amt    219.726876\n",
       "visits         3.343805\n",
       "recency       26.917976\n",
       "dtype: float64"
      ]
     },
     "execution_count": 92,
     "metadata": {},
     "output_type": "execute_result"
    }
   ],
   "source": [
    "rfm_final[rfm_final['cluster'] ==0].drop('cluster', axis = 1).mean()"
   ]
  },
  {
   "cell_type": "code",
   "execution_count": 94,
   "metadata": {},
   "outputs": [
    {
     "data": {
      "text/plain": [
       "total_amt     76.263158\n",
       "visits         1.230994\n",
       "recency      110.212476\n",
       "dtype: float64"
      ]
     },
     "execution_count": 94,
     "metadata": {},
     "output_type": "execute_result"
    }
   ],
   "source": [
    "rfm_final[rfm_final['cluster'] ==1].drop('cluster', axis= 1).mean()"
   ]
  },
  {
   "cell_type": "code",
   "execution_count": 95,
   "metadata": {},
   "outputs": [
    {
     "data": {
      "text/plain": [
       "total_amt    106.718859\n",
       "visits         1.683368\n",
       "recency       65.131524\n",
       "dtype: float64"
      ]
     },
     "execution_count": 95,
     "metadata": {},
     "output_type": "execute_result"
    }
   ],
   "source": [
    "rfm_final[rfm_final['cluster'] ==2].drop('cluster', axis = 1).mean()"
   ]
  },
  {
   "cell_type": "code",
   "execution_count": 96,
   "metadata": {},
   "outputs": [
    {
     "data": {
      "text/plain": [
       "total_amt    362.124339\n",
       "visits         5.034392\n",
       "recency       19.219577\n",
       "dtype: float64"
      ]
     },
     "execution_count": 96,
     "metadata": {},
     "output_type": "execute_result"
    }
   ],
   "source": [
    "rfm_final[rfm_final['cluster'] ==3].drop('cluster', axis = 1).mean()"
   ]
  },
  {
   "cell_type": "code",
   "execution_count": 93,
   "metadata": {},
   "outputs": [
    {
     "data": {
      "text/plain": [
       "total_amt    99.786106\n",
       "visits        1.603900\n",
       "recency      20.380256\n",
       "dtype: float64"
      ]
     },
     "execution_count": 93,
     "metadata": {},
     "output_type": "execute_result"
    }
   ],
   "source": [
    "rfm_final[rfm_final['cluster'] ==4].drop('cluster', axis = 1).mean()"
   ]
  },
  {
   "cell_type": "code",
   "execution_count": 121,
   "metadata": {},
   "outputs": [
    {
     "data": {
      "text/html": [
       "<div>\n",
       "<style scoped>\n",
       "    .dataframe tbody tr th:only-of-type {\n",
       "        vertical-align: middle;\n",
       "    }\n",
       "\n",
       "    .dataframe tbody tr th {\n",
       "        vertical-align: top;\n",
       "    }\n",
       "\n",
       "    .dataframe thead th {\n",
       "        text-align: right;\n",
       "    }\n",
       "</style>\n",
       "<table border=\"1\" class=\"dataframe\">\n",
       "  <thead>\n",
       "    <tr style=\"text-align: right;\">\n",
       "      <th></th>\n",
       "      <th>customer_id</th>\n",
       "      <th>recency</th>\n",
       "      <th>frequency</th>\n",
       "      <th>monetary</th>\n",
       "    </tr>\n",
       "  </thead>\n",
       "  <tbody>\n",
       "    <tr>\n",
       "      <th>0</th>\n",
       "      <td>CS1112</td>\n",
       "      <td>0.451852</td>\n",
       "      <td>0.142857</td>\n",
       "      <td>0.143556</td>\n",
       "    </tr>\n",
       "    <tr>\n",
       "      <th>1</th>\n",
       "      <td>CS1113</td>\n",
       "      <td>0.259259</td>\n",
       "      <td>0.285714</td>\n",
       "      <td>0.342577</td>\n",
       "    </tr>\n",
       "    <tr>\n",
       "      <th>2</th>\n",
       "      <td>CS1114</td>\n",
       "      <td>0.237037</td>\n",
       "      <td>0.285714</td>\n",
       "      <td>0.327896</td>\n",
       "    </tr>\n",
       "    <tr>\n",
       "      <th>3</th>\n",
       "      <td>CS1115</td>\n",
       "      <td>0.081481</td>\n",
       "      <td>0.000000</td>\n",
       "      <td>0.073409</td>\n",
       "    </tr>\n",
       "    <tr>\n",
       "      <th>4</th>\n",
       "      <td>CS1118</td>\n",
       "      <td>0.014815</td>\n",
       "      <td>0.142857</td>\n",
       "      <td>0.169657</td>\n",
       "    </tr>\n",
       "  </tbody>\n",
       "</table>\n",
       "</div>"
      ],
      "text/plain": [
       "  customer_id   recency  frequency  monetary\n",
       "0      CS1112  0.451852   0.142857  0.143556\n",
       "1      CS1113  0.259259   0.285714  0.342577\n",
       "2      CS1114  0.237037   0.285714  0.327896\n",
       "3      CS1115  0.081481   0.000000  0.073409\n",
       "4      CS1118  0.014815   0.142857  0.169657"
      ]
     },
     "execution_count": 121,
     "metadata": {},
     "output_type": "execute_result"
    }
   ],
   "source": [
    "rfm.head()"
   ]
  },
  {
   "cell_type": "code",
   "execution_count": 122,
   "metadata": {},
   "outputs": [],
   "source": [
    "norm_rfm = rfm.copy()\n",
    "norm_rfm['cluster'] = cluster"
   ]
  },
  {
   "cell_type": "code",
   "execution_count": 123,
   "metadata": {},
   "outputs": [
    {
     "data": {
      "text/html": [
       "<div>\n",
       "<style scoped>\n",
       "    .dataframe tbody tr th:only-of-type {\n",
       "        vertical-align: middle;\n",
       "    }\n",
       "\n",
       "    .dataframe tbody tr th {\n",
       "        vertical-align: top;\n",
       "    }\n",
       "\n",
       "    .dataframe thead th {\n",
       "        text-align: right;\n",
       "    }\n",
       "</style>\n",
       "<table border=\"1\" class=\"dataframe\">\n",
       "  <thead>\n",
       "    <tr style=\"text-align: right;\">\n",
       "      <th></th>\n",
       "      <th>customer_id</th>\n",
       "      <th>recency</th>\n",
       "      <th>frequency</th>\n",
       "      <th>monetary</th>\n",
       "      <th>cluster</th>\n",
       "    </tr>\n",
       "  </thead>\n",
       "  <tbody>\n",
       "    <tr>\n",
       "      <th>0</th>\n",
       "      <td>CS1112</td>\n",
       "      <td>0.451852</td>\n",
       "      <td>0.142857</td>\n",
       "      <td>0.143556</td>\n",
       "      <td>2</td>\n",
       "    </tr>\n",
       "    <tr>\n",
       "      <th>1</th>\n",
       "      <td>CS1113</td>\n",
       "      <td>0.259259</td>\n",
       "      <td>0.285714</td>\n",
       "      <td>0.342577</td>\n",
       "      <td>0</td>\n",
       "    </tr>\n",
       "    <tr>\n",
       "      <th>2</th>\n",
       "      <td>CS1114</td>\n",
       "      <td>0.237037</td>\n",
       "      <td>0.285714</td>\n",
       "      <td>0.327896</td>\n",
       "      <td>0</td>\n",
       "    </tr>\n",
       "    <tr>\n",
       "      <th>3</th>\n",
       "      <td>CS1115</td>\n",
       "      <td>0.081481</td>\n",
       "      <td>0.000000</td>\n",
       "      <td>0.073409</td>\n",
       "      <td>4</td>\n",
       "    </tr>\n",
       "    <tr>\n",
       "      <th>4</th>\n",
       "      <td>CS1118</td>\n",
       "      <td>0.014815</td>\n",
       "      <td>0.142857</td>\n",
       "      <td>0.169657</td>\n",
       "      <td>4</td>\n",
       "    </tr>\n",
       "  </tbody>\n",
       "</table>\n",
       "</div>"
      ],
      "text/plain": [
       "  customer_id   recency  frequency  monetary  cluster\n",
       "0      CS1112  0.451852   0.142857  0.143556        2\n",
       "1      CS1113  0.259259   0.285714  0.342577        0\n",
       "2      CS1114  0.237037   0.285714  0.327896        0\n",
       "3      CS1115  0.081481   0.000000  0.073409        4\n",
       "4      CS1118  0.014815   0.142857  0.169657        4"
      ]
     },
     "execution_count": 123,
     "metadata": {},
     "output_type": "execute_result"
    }
   ],
   "source": [
    "norm_rfm.head()"
   ]
  },
  {
   "cell_type": "code",
   "execution_count": 125,
   "metadata": {},
   "outputs": [
    {
     "data": {
      "text/html": [
       "<div>\n",
       "<style scoped>\n",
       "    .dataframe tbody tr th:only-of-type {\n",
       "        vertical-align: middle;\n",
       "    }\n",
       "\n",
       "    .dataframe tbody tr th {\n",
       "        vertical-align: top;\n",
       "    }\n",
       "\n",
       "    .dataframe thead th {\n",
       "        text-align: right;\n",
       "    }\n",
       "</style>\n",
       "<table border=\"1\" class=\"dataframe\">\n",
       "  <thead>\n",
       "    <tr style=\"text-align: right;\">\n",
       "      <th></th>\n",
       "      <th>customer_id</th>\n",
       "      <th>cluster</th>\n",
       "      <th>features</th>\n",
       "      <th>value</th>\n",
       "    </tr>\n",
       "  </thead>\n",
       "  <tbody>\n",
       "    <tr>\n",
       "      <th>0</th>\n",
       "      <td>CS1112</td>\n",
       "      <td>2</td>\n",
       "      <td>recency</td>\n",
       "      <td>0.451852</td>\n",
       "    </tr>\n",
       "    <tr>\n",
       "      <th>1</th>\n",
       "      <td>CS1113</td>\n",
       "      <td>0</td>\n",
       "      <td>recency</td>\n",
       "      <td>0.259259</td>\n",
       "    </tr>\n",
       "    <tr>\n",
       "      <th>2</th>\n",
       "      <td>CS1114</td>\n",
       "      <td>0</td>\n",
       "      <td>recency</td>\n",
       "      <td>0.237037</td>\n",
       "    </tr>\n",
       "    <tr>\n",
       "      <th>3</th>\n",
       "      <td>CS1115</td>\n",
       "      <td>4</td>\n",
       "      <td>recency</td>\n",
       "      <td>0.081481</td>\n",
       "    </tr>\n",
       "    <tr>\n",
       "      <th>4</th>\n",
       "      <td>CS1118</td>\n",
       "      <td>4</td>\n",
       "      <td>recency</td>\n",
       "      <td>0.014815</td>\n",
       "    </tr>\n",
       "  </tbody>\n",
       "</table>\n",
       "</div>"
      ],
      "text/plain": [
       "  customer_id  cluster features     value\n",
       "0      CS1112        2  recency  0.451852\n",
       "1      CS1113        0  recency  0.259259\n",
       "2      CS1114        0  recency  0.237037\n",
       "3      CS1115        4  recency  0.081481\n",
       "4      CS1118        4  recency  0.014815"
      ]
     },
     "execution_count": 125,
     "metadata": {},
     "output_type": "execute_result"
    }
   ],
   "source": [
    "melt_rfm = pd.melt(norm_rfm, id_vars = ['customer_id', 'cluster'], \n",
    "                   value_vars = ['recency', 'frequency', 'monetary'], \n",
    "                   var_name = 'features', value_name='value')\n",
    "melt_rfm.head()"
   ]
  },
  {
   "cell_type": "code",
   "execution_count": 126,
   "metadata": {},
   "outputs": [
    {
     "data": {
      "text/plain": [
       "<matplotlib.axes._subplots.AxesSubplot at 0x13f0c38ac08>"
      ]
     },
     "execution_count": 126,
     "metadata": {},
     "output_type": "execute_result"
    },
    {
     "data": {
      "image/png": "[encoded data removed]",
      "text/plain": [
       "<Figure size 432x288 with 1 Axes>"
      ]
     },
     "metadata": {
      "needs_background": "light"
     },
     "output_type": "display_data"
    }
   ],
   "source": [
    "sns.lineplot('features', 'value', hue = 'cluster', data = melt_rfm)"
   ]
  }
 ],
 "metadata": {
  "kernelspec": {
   "display_name": "Python 3",
   "language": "python",
   "name": "python3"
  },
  "language_info": {
   "codemirror_mode": {
    "name": "ipython",
    "version": 3
   },
   "file_extension": ".py",
   "mimetype": "text/x-python",
   "name": "python",
   "nbconvert_exporter": "python",
   "pygments_lexer": "ipython3",
   "version": "3.7.7"
  }
 },
 "nbformat": 4,
 "nbformat_minor": 4
}
